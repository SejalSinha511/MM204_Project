{
  "nbformat": 4,
  "nbformat_minor": 0,
  "metadata": {
    "colab": {
      "provenance": []
    },
    "kernelspec": {
      "name": "python3",
      "display_name": "Python 3"
    },
    "language_info": {
      "name": "python"
    }
  },
  "cells": [
    {
      "cell_type": "code",
      "metadata": {
        "id": "N_VfJAiFULZe"
      },
      "source": [
        "import numpy as np\n",
        "import math\n",
        "import matplotlib.pyplot as plt\n",
        "\n",
        "#Constants of Tantalum\n",
        "rho = 16600\n",
        "c = 147\n",
        "k = 58.8\n",
        "a = k/(rho*c)\n",
        "d = 0.003\n",
        "p = math.pi*d\n",
        "Ac = math.pi*d*d*0.25\n",
        "Fo = 0.5 # Stability criteria\n",
        "del_x = 0.01  # change del_x to change number of nodes\n",
        "mid_l = 0.06\n",
        "nodes = int(mid_l/del_x)\n",
        "del_t = (del_x*del_x)*(Fo/a)\n",
        "I = 80\n",
        "Re = 95*pow(10, -8)\n",
        "e = 0.1\n",
        "eqn_c = (I**2)*Re*(del_x**2)*(1/k)*(1/(Ac**2))*Fo\n",
        "eqn_c1 = e*p*5.67*pow(10,-8)*(del_x**2)*(1/Ac)*(1/k)*Fo\n"
      ],
      "execution_count": null,
      "outputs": []
    },
    {
      "cell_type": "code",
      "metadata": {
        "id": "pkcsasbmh7A3"
      },
      "source": [
        "T_suc = []\n",
        "j=0\n",
        "T_prev = []\n",
        "T = []\n",
        "T_dist = []\n",
        "time = []\n",
        "for i in range(nodes+1):\n",
        "  T_prev.append(300)\n",
        "  T_suc.append(300)\n",
        "  T.append(300)\n",
        "\n",
        "T_dist.append(300)\n",
        "for p in range(0,40):\n",
        "  if(T_prev[0]>T[0]):\n",
        "    j = p\n",
        "  for i in range(nodes):\n",
        "    T_prev[i] = T_suc[i]\n",
        "    T_prev[i+1] = T_suc[i+1]\n",
        "    if(i==0):\n",
        "      T[i] = (Fo*(T_prev[i+1] + T_prev[i+1]) - eqn_c1*(T_prev[i]**4) + eqn_c)\n",
        "      T_suc[i] = T[i]\n",
        "      T_dist.append(T[i])\n",
        "    else:\n",
        "      T[i] = (Fo*(T_prev[i-1] + T_prev[i+1]) - eqn_c1*(T_prev[i]**4) + eqn_c)\n",
        "      T_suc[i] = T[i]\n",
        "  time.append(del_t*p)\n",
        "time.append(del_t*(p+1))"
      ],
      "execution_count": null,
      "outputs": []
    },
    {
      "cell_type": "code",
      "metadata": {
        "colab": {
          "base_uri": "https://localhost:8080/",
          "height": 279
        },
        "id": "yCnlUOETA051",
        "outputId": "92b932eb-7343-4678-b18b-5437494eb05d"
      },
      "source": [
        "plt.plot(time, T_dist)\n",
        "plt.xlabel('time (s)')\n",
        "plt.ylabel('Temperature (K)')\n",
        "plt.show()"
      ],
      "execution_count": null,
      "outputs": [
        {
          "output_type": "display_data",
          "data": {
            "image/png": "[encoded data removed]",
            "text/plain": [
              "<Figure size 432x288 with 1 Axes>"
            ]
          },
          "metadata": {
            "tags": [],
            "needs_background": "light"
          }
        }
      ]
    }
  ]
}